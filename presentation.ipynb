{
 "cells": [
  {
   "cell_type": "markdown",
   "id": "65422d72",
   "metadata": {},
   "source": [
    "<h1>Análise das Músicas Mais Populares ao Longo do Tempo</h1>\n",
    "\n",
    "<h4>Integrantes:</h4>\n",
    "<ul><li>Irlan Miguel de Oliveira Honorato</li>\n",
    "<li>José Victor Justino de Oliveira</li>\n",
    "<li>Labert Paixão Ribeiro</li></ul>\n",
    "\n",
    "<h2>1. Introdução</h2>\n",
    "\n",
    "O desenvolvimento deste projeto foi motivado pela necessidade de compreender padrões de comportamento na indústria musical, mais especificamente analisando as músicas mais populares do Spotify ao longo dos anos. Através da coleta e análise desses dados, buscamos identificar tendências relacionadas à popularidade, duração, gêneros musicais predominantes e artistas de maior destaque.\n",
    "\n",
    "<h3>1.1 Objetivo Geral</h3>\n",
    "\n",
    "<ul><li>Levantar insights sobre a popularidade das músicas no Spotify, considerando variáveis como duração, gêneros e artistas.</li></ul>\n",
    "\n",
    "<h3>1.2 Objetivos Especificos</h3>\n",
    "\n",
    "<ul>\n",
    "<li>Analisar a evolução da duração das músicas ao longo dos anos</li>\n",
    "<li>Identificar os gêneros musicais mais recorrentes entre as faixas populares</li>\n",
    "<li>Verificar a relação entre a duração da faixa e sua popularidade</li>\n",
    "<li>Analisar a distribuição da popularidade das músicas</li>\n",
    "<li>Identificar artistas que aparecem com maior frequência entre os tops tracks.</li>\n",
    "</ul>\n",
    "\n",
    "<h3>1.3 Bibliotecas utilizadas:</h3>\n",
    "\n",
    "As bibliotecas utilizadas estão contidas no arquivo requirements.txt no diretorio do presente trabalho.\n",
    "\n",
    "\n",
    ">pip install -r requirements.txt"
   ]
  }
 ],
 "metadata": {
  "language_info": {
   "name": "python"
  }
 },
 "nbformat": 4,
 "nbformat_minor": 5
}
